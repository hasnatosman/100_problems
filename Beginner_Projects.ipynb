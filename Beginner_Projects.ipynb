{
  "nbformat": 4,
  "nbformat_minor": 0,
  "metadata": {
    "colab": {
      "provenance": [],
      "toc_visible": true,
      "authorship_tag": "ABX9TyOjfniQBrKN5SO3hAwMZoc7",
      "include_colab_link": true
    },
    "kernelspec": {
      "name": "python3",
      "display_name": "Python 3"
    },
    "language_info": {
      "name": "python"
    }
  },
  "cells": [
    {
      "cell_type": "markdown",
      "metadata": {
        "id": "view-in-github",
        "colab_type": "text"
      },
      "source": [
        "<a href=\"https://colab.research.google.com/github/hasnatosman/100_problems/blob/main/Beginner_Projects.ipynb\" target=\"_parent\"><img src=\"https://colab.research.google.com/assets/colab-badge.svg\" alt=\"Open In Colab\"/></a>"
      ]
    },
    {
      "cell_type": "markdown",
      "source": [
        "# Number Guessing Game"
      ],
      "metadata": {
        "id": "b2g1OlExtwiu"
      }
    },
    {
      "cell_type": "markdown",
      "source": [
        "- **Description:** Create a game where the computer randomly picks a number between 1 and 100, and the user has to guess the number. The program gives hints such as \"too high\" or \"too low\" until the user guesses the correct number.\n",
        "- **Concepts used:** Random number generation, loops, conditional statements, user input."
      ],
      "metadata": {
        "id": "3701N7FJxtq_"
      }
    },
    {
      "cell_type": "code",
      "execution_count": null,
      "metadata": {
        "id": "F51RIvOjrPUp",
        "colab": {
          "base_uri": "https://localhost:8080/"
        },
        "outputId": "e896ae08-941a-4314-a1c5-db007fdd5a50"
      },
      "outputs": [
        {
          "output_type": "stream",
          "name": "stdout",
          "text": [
            "Welcome to number guessing game!\n",
            "I've picked a number between 1 and 100. Try to guess it!\n",
            "Enter your guess: 35\n",
            "The number is too low, try again please!\n",
            "Enter your guess: 55\n",
            "The number is too low, try again please!\n",
            "Enter your guess: 75\n",
            "The number is too low, try again please!\n",
            "Enter your guess: 95\n",
            "Congratulations! You've guessed the number 95 in 4 attempts!\n",
            "\n",
            "\n",
            "----------The Game is Over!----------\n"
          ]
        }
      ],
      "source": [
        "# inport random library\n",
        "import random\n",
        "\n",
        "# define the main function\n",
        "def number_guessing_game():\n",
        "  # generate a random number between1 to 100\n",
        "  number_to_guess = random.randint(1,100)\n",
        "\n",
        "  # count number of attemts taken\n",
        "  attempts = 0\n",
        "  print(\"Welcome to number guessing game!\")\n",
        "  print(\"I've picked a number between 1 and 100. Try to guess it!\")\n",
        "\n",
        "  while True:\n",
        "    # get user input\n",
        "    try:\n",
        "      user_guess = int(input(\"Enter your guess: \"))\n",
        "    except ValueError:\n",
        "      print(\"Please inter a valid number!\")\n",
        "      continue\n",
        "    attempts += 1\n",
        "\n",
        "    # check if the value is too high, or too low\n",
        "    if user_guess < number_to_guess:\n",
        "      print(\"The number is too low, try again please!\")\n",
        "\n",
        "    elif user_guess > number_to_guess:\n",
        "      print(\"The number is too high, try again please!\")\n",
        "\n",
        "    else:\n",
        "      print(f\"Congratulations! You've guessed the number {number_to_guess} in {attempts} attempts!\")\n",
        "      break\n",
        "\n",
        "# start the game\n",
        "number_guessing_game()\n",
        "print()\n",
        "print()\n",
        "print(\"----------The Game is Over!----------\")"
      ]
    }
  ]
}