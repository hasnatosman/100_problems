{
  "nbformat": 4,
  "nbformat_minor": 0,
  "metadata": {
    "colab": {
      "provenance": [],
      "toc_visible": true,
      "authorship_tag": "ABX9TyP5BF9MS+1JgE9vOMUrvQum",
      "include_colab_link": true
    },
    "kernelspec": {
      "name": "python3",
      "display_name": "Python 3"
    },
    "language_info": {
      "name": "python"
    }
  },
  "cells": [
    {
      "cell_type": "markdown",
      "metadata": {
        "id": "view-in-github",
        "colab_type": "text"
      },
      "source": [
        "<a href=\"https://colab.research.google.com/github/hasnatosman/100_problems/blob/main/100daysofPython.ipynb\" target=\"_parent\"><img src=\"https://colab.research.google.com/assets/colab-badge.svg\" alt=\"Open In Colab\"/></a>"
      ]
    },
    {
      "cell_type": "markdown",
      "source": [
        "# Day #1"
      ],
      "metadata": {
        "id": "0cJx0hVqwKK3"
      }
    },
    {
      "cell_type": "markdown",
      "source": [
        "**What is programming?**\n",
        "Programming is the process of creating a set of instructions that tell a computer how to perform a specific task or solve a problem.\n",
        "\n",
        "\n",
        "**Understanding the Problem:** Breaking down a problem into smaller, manageable parts and figuring out what steps are needed to solve it.\n",
        "\n",
        "**Writing Code**: Using a programming language to translate the solution into code that a computer can understand and execute.\n",
        "\n",
        "**Testing and Debugging:** Ensuring the program works as expected by running tests, finding errors (bugs), and fixing them.\n",
        "\n",
        "**Refining and Optimizing:** Improving the code to make it faster, more efficient, or easier to understand.\n",
        "\n",
        "**Executing Programs**: Running the code so the computer can perform the task automatically, reliably, and repeatedly.\n",
        "\n"
      ],
      "metadata": {
        "id": "HvvM8SRL-g97"
      }
    },
    {
      "cell_type": "markdown",
      "source": [
        "**Python features?**\n"
      ],
      "metadata": {
        "id": "OK9BTw1UCJEN"
      }
    },
    {
      "cell_type": "markdown",
      "source": [
        "**Why is python used for?**"
      ],
      "metadata": {
        "id": "DDyto_ApCOz-"
      }
    }
  ]
}